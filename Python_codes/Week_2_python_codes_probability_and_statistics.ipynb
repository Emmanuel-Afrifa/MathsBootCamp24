{
 "cells": [
  {
   "cell_type": "markdown",
   "id": "6c5b5cf4",
   "metadata": {},
   "source": [
    "# Probability and Statistics\n",
    "\n",
    "\n",
    "<div style=\"display: flex; justify-content: center; \">\n",
    "     <img src=\"images/wimlds.png\" style=\"max-width: 40%; height: auto\"/>\n",
    "       <img src=\"images/aims.jpeg\" style=\"max-width: 40%; height: auto\"/>\n",
    "\n",
    "</div>\n",
    "\n",
    "\n",
    "© WiMLDS Accra 2024. Apache License 2.0.\n",
    "\n",
    "**Authors:** Name 1, Name 2"
   ]
  },
  {
   "cell_type": "code",
   "execution_count": 32,
   "id": "accomplished-acrylic",
   "metadata": {},
   "outputs": [
    {
     "data": {
      "text/plain": [
       "array([0.5787037 , 0.34722222, 0.06944444, 0.00462963])"
      ]
     },
     "execution_count": 32,
     "metadata": {},
     "output_type": "execute_result"
    }
   ],
   "source": [
    "from scipy.stats import binom \n",
    "import numpy as np\n",
    "import statistics\n",
    "from sklearn.preprocessing import PolynomialFeatures\n",
    "import matplotlib.pyplot as plt\n",
    "# Binomial distribution\n",
    "# setting the values \n",
    "# of n and p \n",
    "n = 3\n",
    "p = 1/6\n",
    "r=np.arange(4)\n",
    "binom.pmf(r,n,p)"
   ]
  },
  {
   "cell_type": "code",
   "execution_count": 19,
   "id": "architectural-velvet",
   "metadata": {},
   "outputs": [
    {
     "data": {
      "text/plain": [
       "3.4"
      ]
     },
     "execution_count": 19,
     "metadata": {},
     "output_type": "execute_result"
    }
   ],
   "source": [
    "###Mean calculation###\n",
    "data = [1,3,5,5,3]\n",
    "out = 0\n",
    "for i in range(len(data)):\n",
    "    out += data[i]\n",
    "out/(len(data))"
   ]
  },
  {
   "cell_type": "code",
   "execution_count": 28,
   "id": "popular-blogger",
   "metadata": {},
   "outputs": [
    {
     "name": "stdout",
     "output_type": "stream",
     "text": [
      "5\n"
     ]
    }
   ],
   "source": [
    "###Mean calculation###\n",
    "data = [1,3,5,5,3,8,7,8,9]\n",
    "freq = {}\n",
    "for i in data:\n",
    "    freq.values(i)\n",
    "    if data[i] == data[i+1]:\n",
    "        out = data[i]\n",
    "print(out)\n"
   ]
  },
  {
   "cell_type": "code",
   "execution_count": 30,
   "id": "prescription-anthropology",
   "metadata": {},
   "outputs": [
    {
     "name": "stdout",
     "output_type": "stream",
     "text": [
      "Mode(s): [8]\n"
     ]
    }
   ],
   "source": [
    "#Mode calculations-First approach#\n",
    "data = [1, 3, 5, 5, 3,8,8,8]\n",
    "\n",
    "# Create a dictionary to store the count of each element\n",
    "freq_dict = {}\n",
    "for num in data:\n",
    "    if num in freq_dict:\n",
    "        freq_dict[num] += 1\n",
    "    else:\n",
    "        freq_dict[num] = 1\n",
    "\n",
    "# Find the mode(s) by finding the element(s) with the maximum frequency\n",
    "max_freq = max(freq_dict.values())\n",
    "modes = [num for num, freq in freq_dict.items() if freq == max_freq]\n",
    "\n",
    "# Print the mode(s)\n",
    "print(\"Mode(s):\", modes)\n"
   ]
  },
  {
   "cell_type": "code",
   "execution_count": 36,
   "id": "incorporate-boutique",
   "metadata": {},
   "outputs": [],
   "source": [
    "#Mode calculations-Second approach#\n",
    "data = [1, 3, 5, 5, 3,8,8,8,9]\n",
    "modee = statistics.mode(data)"
   ]
  },
  {
   "cell_type": "code",
   "execution_count": 37,
   "id": "curious-growth",
   "metadata": {},
   "outputs": [
    {
     "data": {
      "text/plain": [
       "5"
      ]
     },
     "execution_count": 37,
     "metadata": {},
     "output_type": "execute_result"
    }
   ],
   "source": [
    "statistics.median(data)"
   ]
  },
  {
   "cell_type": "code",
   "execution_count": 38,
   "id": "faced-geometry",
   "metadata": {},
   "outputs": [
    {
     "name": "stdout",
     "output_type": "stream",
     "text": [
      "Median: 5.0\n"
     ]
    }
   ],
   "source": [
    "def find_median(data):\n",
    "    # Sort the data\n",
    "    sorted_data = sorted(data)\n",
    "    \n",
    "    # Calculate the length of the data\n",
    "    n = len(sorted_data)\n",
    "    \n",
    "    # Check if the number of elements is odd or even\n",
    "    if n % 2 == 1:\n",
    "        # If the number of elements is odd, return the middle element\n",
    "        median_index = n // 2\n",
    "        median = sorted_data[median_index]\n",
    "    else:\n",
    "        # If the number of elements is even, return the average of the two middle elements\n",
    "        median_index1 = n // 2 - 1\n",
    "        median_index2 = n // 2\n",
    "        median = (sorted_data[median_index1] + sorted_data[median_index2]) / 2\n",
    "        \n",
    "    return median\n",
    "\n",
    "# Example usage\n",
    "data = [1, 3, 5, 5, 3, 8, 8, 8]\n",
    "median_value = find_median(data)\n",
    "print(\"Median:\", median_value)\n"
   ]
  },
  {
   "cell_type": "code",
   "execution_count": 39,
   "id": "convinced-pricing",
   "metadata": {},
   "outputs": [
    {
     "ename": "OSError",
     "evalue": "logistic_reg_1.txt not found.",
     "output_type": "error",
     "traceback": [
      "\u001b[0;31m---------------------------------------------------------------------------\u001b[0m",
      "\u001b[0;31mOSError\u001b[0m                                   Traceback (most recent call last)",
      "\u001b[0;32m<ipython-input-39-d5928e4f0e80>\u001b[0m in \u001b[0;36m<module>\u001b[0;34m\u001b[0m\n\u001b[0;32m----> 1\u001b[0;31m \u001b[0mclf_data\u001b[0m \u001b[0;34m=\u001b[0m \u001b[0mnp\u001b[0m\u001b[0;34m.\u001b[0m\u001b[0mloadtxt\u001b[0m\u001b[0;34m(\u001b[0m\u001b[0;34m'logistic_reg_1.txt'\u001b[0m\u001b[0;34m,\u001b[0m \u001b[0mdtype\u001b[0m\u001b[0;34m=\u001b[0m\u001b[0mfloat\u001b[0m\u001b[0;34m,\u001b[0m \u001b[0mdelimiter\u001b[0m\u001b[0;34m=\u001b[0m\u001b[0;34m','\u001b[0m\u001b[0;34m,\u001b[0m \u001b[0mconverters\u001b[0m\u001b[0;34m=\u001b[0m\u001b[0;34m{\u001b[0m\u001b[0;36m0\u001b[0m\u001b[0;34m:\u001b[0m\u001b[0mfloat\u001b[0m \u001b[0;34m,\u001b[0m \u001b[0;36m1\u001b[0m\u001b[0;34m:\u001b[0m\u001b[0mfloat\u001b[0m \u001b[0;34m}\u001b[0m\u001b[0;34m)\u001b[0m\u001b[0;34m\u001b[0m\u001b[0;34m\u001b[0m\u001b[0m\n\u001b[0m",
      "\u001b[0;32m/usr/lib/python3/dist-packages/numpy/lib/npyio.py\u001b[0m in \u001b[0;36mloadtxt\u001b[0;34m(fname, dtype, comments, delimiter, converters, skiprows, usecols, unpack, ndmin, encoding, max_rows)\u001b[0m\n\u001b[1;32m    959\u001b[0m             \u001b[0mfname\u001b[0m \u001b[0;34m=\u001b[0m \u001b[0mos_fspath\u001b[0m\u001b[0;34m(\u001b[0m\u001b[0mfname\u001b[0m\u001b[0;34m)\u001b[0m\u001b[0;34m\u001b[0m\u001b[0;34m\u001b[0m\u001b[0m\n\u001b[1;32m    960\u001b[0m         \u001b[0;32mif\u001b[0m \u001b[0m_is_string_like\u001b[0m\u001b[0;34m(\u001b[0m\u001b[0mfname\u001b[0m\u001b[0;34m)\u001b[0m\u001b[0;34m:\u001b[0m\u001b[0;34m\u001b[0m\u001b[0;34m\u001b[0m\u001b[0m\n\u001b[0;32m--> 961\u001b[0;31m             \u001b[0mfh\u001b[0m \u001b[0;34m=\u001b[0m \u001b[0mnp\u001b[0m\u001b[0;34m.\u001b[0m\u001b[0mlib\u001b[0m\u001b[0;34m.\u001b[0m\u001b[0m_datasource\u001b[0m\u001b[0;34m.\u001b[0m\u001b[0mopen\u001b[0m\u001b[0;34m(\u001b[0m\u001b[0mfname\u001b[0m\u001b[0;34m,\u001b[0m \u001b[0;34m'rt'\u001b[0m\u001b[0;34m,\u001b[0m \u001b[0mencoding\u001b[0m\u001b[0;34m=\u001b[0m\u001b[0mencoding\u001b[0m\u001b[0;34m)\u001b[0m\u001b[0;34m\u001b[0m\u001b[0;34m\u001b[0m\u001b[0m\n\u001b[0m\u001b[1;32m    962\u001b[0m             \u001b[0mfencoding\u001b[0m \u001b[0;34m=\u001b[0m \u001b[0mgetattr\u001b[0m\u001b[0;34m(\u001b[0m\u001b[0mfh\u001b[0m\u001b[0;34m,\u001b[0m \u001b[0;34m'encoding'\u001b[0m\u001b[0;34m,\u001b[0m \u001b[0;34m'latin1'\u001b[0m\u001b[0;34m)\u001b[0m\u001b[0;34m\u001b[0m\u001b[0;34m\u001b[0m\u001b[0m\n\u001b[1;32m    963\u001b[0m             \u001b[0mfh\u001b[0m \u001b[0;34m=\u001b[0m \u001b[0miter\u001b[0m\u001b[0;34m(\u001b[0m\u001b[0mfh\u001b[0m\u001b[0;34m)\u001b[0m\u001b[0;34m\u001b[0m\u001b[0;34m\u001b[0m\u001b[0m\n",
      "\u001b[0;32m/usr/lib/python3/dist-packages/numpy/lib/_datasource.py\u001b[0m in \u001b[0;36mopen\u001b[0;34m(path, mode, destpath, encoding, newline)\u001b[0m\n\u001b[1;32m    193\u001b[0m \u001b[0;34m\u001b[0m\u001b[0m\n\u001b[1;32m    194\u001b[0m     \u001b[0mds\u001b[0m \u001b[0;34m=\u001b[0m \u001b[0mDataSource\u001b[0m\u001b[0;34m(\u001b[0m\u001b[0mdestpath\u001b[0m\u001b[0;34m)\u001b[0m\u001b[0;34m\u001b[0m\u001b[0;34m\u001b[0m\u001b[0m\n\u001b[0;32m--> 195\u001b[0;31m     \u001b[0;32mreturn\u001b[0m \u001b[0mds\u001b[0m\u001b[0;34m.\u001b[0m\u001b[0mopen\u001b[0m\u001b[0;34m(\u001b[0m\u001b[0mpath\u001b[0m\u001b[0;34m,\u001b[0m \u001b[0mmode\u001b[0m\u001b[0;34m,\u001b[0m \u001b[0mencoding\u001b[0m\u001b[0;34m=\u001b[0m\u001b[0mencoding\u001b[0m\u001b[0;34m,\u001b[0m \u001b[0mnewline\u001b[0m\u001b[0;34m=\u001b[0m\u001b[0mnewline\u001b[0m\u001b[0;34m)\u001b[0m\u001b[0;34m\u001b[0m\u001b[0;34m\u001b[0m\u001b[0m\n\u001b[0m\u001b[1;32m    196\u001b[0m \u001b[0;34m\u001b[0m\u001b[0m\n\u001b[1;32m    197\u001b[0m \u001b[0;34m\u001b[0m\u001b[0m\n",
      "\u001b[0;32m/usr/lib/python3/dist-packages/numpy/lib/_datasource.py\u001b[0m in \u001b[0;36mopen\u001b[0;34m(self, path, mode, encoding, newline)\u001b[0m\n\u001b[1;32m    533\u001b[0m                                       encoding=encoding, newline=newline)\n\u001b[1;32m    534\u001b[0m         \u001b[0;32melse\u001b[0m\u001b[0;34m:\u001b[0m\u001b[0;34m\u001b[0m\u001b[0;34m\u001b[0m\u001b[0m\n\u001b[0;32m--> 535\u001b[0;31m             \u001b[0;32mraise\u001b[0m \u001b[0mIOError\u001b[0m\u001b[0;34m(\u001b[0m\u001b[0;34m\"%s not found.\"\u001b[0m \u001b[0;34m%\u001b[0m \u001b[0mpath\u001b[0m\u001b[0;34m)\u001b[0m\u001b[0;34m\u001b[0m\u001b[0;34m\u001b[0m\u001b[0m\n\u001b[0m\u001b[1;32m    536\u001b[0m \u001b[0;34m\u001b[0m\u001b[0m\n\u001b[1;32m    537\u001b[0m \u001b[0;34m\u001b[0m\u001b[0m\n",
      "\u001b[0;31mOSError\u001b[0m: logistic_reg_1.txt not found."
     ]
    }
   ],
   "source": [
    "clf_data = np.loadtxt('logistic_reg_1.txt', dtype=float, delimiter=',', converters={0:float , 1:float })"
   ]
  },
  {
   "cell_type": "markdown",
   "id": "34aab403",
   "metadata": {},
   "source": [
    "---\n",
    "# Congrats! That's it for this tutorial.\n",
    "\n",
    "---\n",
    "<h1>About the Authors:</h1> \n",
    "\n",
    "## Author 1\n",
    " \n",
    "**Full Name**, Current position.\n",
    "Email: myemail@gmail.com\n",
    "\n",
    "## Author 2\n",
    "\n",
    "**Full Name**, Current position.\n",
    "Email: myemail@gmail.com\n",
    "\n",
    "\n",
    "---\n",
    "*This notebook was originally created for the [Accra WiMLDS chapter ](https://www.linkedin.com/company/98583062/admin/feed/posts/) Mathematics for ML & Data Science course 2024 and is published under [MIT license](https://choosealicense.com/licenses/mit/).*"
   ]
  }
 ],
 "metadata": {
  "kernelspec": {
   "display_name": "Python 3 (ipykernel)",
   "language": "python",
   "name": "python3"
  },
  "language_info": {
   "codemirror_mode": {
    "name": "ipython",
    "version": 3
   },
   "file_extension": ".py",
   "mimetype": "text/x-python",
   "name": "python",
   "nbconvert_exporter": "python",
   "pygments_lexer": "ipython3",
   "version": "3.9.12"
  }
 },
 "nbformat": 4,
 "nbformat_minor": 5
}
